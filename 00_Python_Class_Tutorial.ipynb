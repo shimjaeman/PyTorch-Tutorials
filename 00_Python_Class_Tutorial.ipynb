{
  "nbformat": 4,
  "nbformat_minor": 0,
  "metadata": {
    "colab": {
      "provenance": [],
      "authorship_tag": "ABX9TyOziBRTaCPrshamv03dvnw+",
      "include_colab_link": true
    },
    "kernelspec": {
      "name": "python3",
      "display_name": "Python 3"
    },
    "language_info": {
      "name": "python"
    }
  },
  "cells": [
    {
      "cell_type": "markdown",
      "metadata": {
        "id": "view-in-github",
        "colab_type": "text"
      },
      "source": [
        "<a href=\"https://colab.research.google.com/github/shimjaeman/PyTorch-Tutorials/blob/main/00_Python_Class_Tutorial.ipynb\" target=\"_parent\"><img src=\"https://colab.research.google.com/assets/colab-badge.svg\" alt=\"Open In Colab\"/></a>"
      ]
    },
    {
      "cell_type": "code",
      "execution_count": null,
      "metadata": {
        "id": "00dbff62"
      },
      "outputs": [],
      "source": [
        "import numpy as np\n",
        "import pandas  as pd\n",
        "import matplotlib.pyplot as plt"
      ]
    },
    {
      "cell_type": "code",
      "source": [
        "# self : 클래스를 저장할 변수 "
      ],
      "metadata": {
        "id": "UFdnuRZx1L2x"
      },
      "execution_count": null,
      "outputs": []
    },
    {
      "cell_type": "code",
      "execution_count": null,
      "metadata": {
        "id": "dfad4b20"
      },
      "outputs": [],
      "source": [
        "class Test:\n",
        "    # __new__ 를 호출하여 객체 생성할당\n",
        "    def __new__(cls): \n",
        "        print('new')\n",
        "        return super().__new__(cls) # super() : 상속받는 상위 클래스의 중첩\n",
        "  \n",
        "    # __new__ 메소드가 __init__메소드를 호출하여 객체에서 값 초기화\n",
        "    def __init__(self):  # __init__ : 클래스를 선언하는 순간 실행되는 함수\n",
        "        print(\"init call\")\n",
        "        self.a = 100\n",
        "\n",
        "    def setA(self, a):\n",
        "        self.a = a\n",
        "\n",
        "    def getA(self):\n",
        "        return self.a"
      ]
    },
    {
      "cell_type": "code",
      "execution_count": null,
      "metadata": {
        "id": "f1972d88",
        "outputId": "2173fb3b-5922-4432-ef45-2798ab6c4ae5",
        "colab": {
          "base_uri": "https://localhost:8080/"
        }
      },
      "outputs": [
        {
          "output_type": "stream",
          "name": "stdout",
          "text": [
            "new\n",
            "init call\n",
            "100\n",
            "200\n"
          ]
        }
      ],
      "source": [
        "obj = Test()\n",
        "print( obj.getA()) # obj.getA(obj)\n",
        "obj.setA(200) # obj.setA(obj, 200)\n",
        "print( obj.getA()) # obj.getA(obj)"
      ]
    },
    {
      "cell_type": "code",
      "source": [
        "# super() : 상속받는 상위 클래스의 중첩"
      ],
      "metadata": {
        "id": "H-HhVWTH92Fh"
      },
      "execution_count": null,
      "outputs": []
    },
    {
      "cell_type": "code",
      "execution_count": null,
      "metadata": {
        "id": "c629b58e"
      },
      "outputs": [],
      "source": [
        "# 상속\n",
        "class Pet():\n",
        "    def Sleep(self):\n",
        "        print(\"잠을 잔다.\")\n",
        "    def Eat(self):\n",
        "        print(\"밥을 먹는다\")\n",
        "class Dog( Pet ):\n",
        "    def Speak(self):\n",
        "        print(\"Bow Wow\")\n",
        "    def Eat(self): # 상위클래스 -> 하위클래스에서 다시 지정 : Overriding\n",
        "        print(\"bone\")\n",
        "class Cat( Pet ):\n",
        "    def Speak(self):\n",
        "        print(\"Meow\")\n",
        "    def Eat(self): # 상위클래스 -> 하위클래스에서 다시 지정 : Overriding\n",
        "        print(\"chur\")"
      ]
    },
    {
      "cell_type": "code",
      "execution_count": null,
      "metadata": {
        "id": "be3cb831",
        "outputId": "c94d9c47-8a68-44f8-fcee-8ac8fcb6700b",
        "colab": {
          "base_uri": "https://localhost:8080/"
        }
      },
      "outputs": [
        {
          "output_type": "stream",
          "name": "stdout",
          "text": [
            "잠을 잔다.\n",
            "bone\n",
            "Bow Wow\n"
          ]
        }
      ],
      "source": [
        "dog = Dog()\n",
        "dog.Sleep()\n",
        "dog.Eat()\n",
        "dog.Speak()"
      ]
    },
    {
      "cell_type": "code",
      "execution_count": null,
      "metadata": {
        "id": "c3656119",
        "outputId": "41a916a7-7ff9-4781-864d-a531fce363d1",
        "colab": {
          "base_uri": "https://localhost:8080/"
        }
      },
      "outputs": [
        {
          "output_type": "stream",
          "name": "stdout",
          "text": [
            "잠을 잔다.\n",
            "chur\n",
            "Meow\n"
          ]
        }
      ],
      "source": [
        "cat = Cat()\n",
        "cat.Sleep()\n",
        "cat.Eat()\n",
        "cat.Speak()"
      ]
    },
    {
      "cell_type": "code",
      "execution_count": null,
      "metadata": {
        "id": "0f428524"
      },
      "outputs": [],
      "source": [
        "# Magic Method\n",
        "class MyClass (object): # __???__\n",
        "    def __init__(self):\n",
        "        self.a = 10\n",
        "        self.myD = {}\n",
        "        self.myCnt = 0\n",
        "    def __repr__ (self): # 생성된 주소|값 ( obj.__repr__() )\n",
        "        return f'a={self.a}'\n",
        "    def __add__ (self, target):\n",
        "        print(\"call\")\n",
        "        return self.a + target\n",
        "    def __call__ (self, n1, n2):\n",
        "        print(n1, n2)\n",
        "    def __setitem__(self, index, value):\n",
        "        print(\"setitem call\")\n",
        "        self.myD[index] = value\n",
        "    def __getitem__ (self, index):\n",
        "        print(\"getitem call\")\n",
        "        return self.myD[index]\n",
        "    def __iter__ (self):\n",
        "        # 초기값...\n",
        "        self.myCnt = 0\n",
        "        return self\n",
        "    def __next__(self):\n",
        "        self.myCnt += 1\n",
        "        if self.myCnt == 5:\n",
        "            raise StopIteration\n",
        "        return self.myCnt"
      ]
    },
    {
      "cell_type": "code",
      "execution_count": null,
      "metadata": {
        "id": "815f7ebd",
        "outputId": "da778664-c2ed-455c-db92-40eaf475f956",
        "colab": {
          "base_uri": "https://localhost:8080/"
        }
      },
      "outputs": [
        {
          "output_type": "stream",
          "name": "stdout",
          "text": [
            "a=10\n"
          ]
        }
      ],
      "source": [
        "obj = MyClass()\n",
        "print(obj)  # obj.__repr__()"
      ]
    },
    {
      "cell_type": "code",
      "execution_count": null,
      "metadata": {
        "id": "4ae44c32",
        "outputId": "ba77b736-f043-4df5-c555-bf77145bb004",
        "colab": {
          "base_uri": "https://localhost:8080/"
        }
      },
      "outputs": [
        {
          "output_type": "stream",
          "name": "stdout",
          "text": [
            "call\n",
            "40\n"
          ]
        }
      ],
      "source": [
        "print(obj + 30) # obj.__add__()"
      ]
    },
    {
      "cell_type": "code",
      "execution_count": null,
      "metadata": {
        "id": "01964cc8",
        "outputId": "f1a6e33a-cc62-44d8-cf18-777fe15065b4",
        "colab": {
          "base_uri": "https://localhost:8080/"
        }
      },
      "outputs": [
        {
          "output_type": "stream",
          "name": "stdout",
          "text": [
            "10 20\n"
          ]
        }
      ],
      "source": [
        "obj(10,20) # obj.__call__(10, 20)"
      ]
    },
    {
      "cell_type": "code",
      "execution_count": null,
      "metadata": {
        "id": "607b1a05",
        "outputId": "825c7a3a-4883-4bf2-a799-c5fcd60933ef",
        "colab": {
          "base_uri": "https://localhost:8080/"
        }
      },
      "outputs": [
        {
          "output_type": "stream",
          "name": "stdout",
          "text": [
            "setitem call\n"
          ]
        }
      ],
      "source": [
        "obj[\"aa\"] = 100 # obj.setitem__ (\"aa\", 100) ==> self.myD[\"aa\"] = 100"
      ]
    },
    {
      "cell_type": "code",
      "execution_count": null,
      "metadata": {
        "id": "a1ddd29a",
        "outputId": "a0718bbb-1aef-47c9-ec78-7dcc0dec69a6",
        "colab": {
          "base_uri": "https://localhost:8080/"
        }
      },
      "outputs": [
        {
          "output_type": "stream",
          "name": "stdout",
          "text": [
            "getitem call\n"
          ]
        },
        {
          "output_type": "execute_result",
          "data": {
            "text/plain": [
              "100"
            ]
          },
          "metadata": {},
          "execution_count": 12
        }
      ],
      "source": [
        "obj[\"aa\"] # obj.__getitem__ (\"aa\")"
      ]
    },
    {
      "cell_type": "code",
      "execution_count": null,
      "metadata": {
        "id": "6f23514b",
        "outputId": "a5d43b1f-6dcd-4880-ae55-c2c20c5292a2",
        "colab": {
          "base_uri": "https://localhost:8080/"
        }
      },
      "outputs": [
        {
          "output_type": "execute_result",
          "data": {
            "text/plain": [
              "1"
            ]
          },
          "metadata": {},
          "execution_count": 13
        }
      ],
      "source": [
        "next(obj) # obj.__next__ ()"
      ]
    },
    {
      "cell_type": "code",
      "execution_count": null,
      "metadata": {
        "id": "8e3d8f01",
        "outputId": "ad92a5ef-f8ff-4acc-8b09-f49141a114d7",
        "colab": {
          "base_uri": "https://localhost:8080/"
        }
      },
      "outputs": [
        {
          "output_type": "stream",
          "name": "stdout",
          "text": [
            "1\n",
            "2\n",
            "3\n",
            "4\n"
          ]
        }
      ],
      "source": [
        "for n in obj: # obj.__iter__() ----> n = next(obj)\n",
        "    print( n )"
      ]
    }
  ]
}