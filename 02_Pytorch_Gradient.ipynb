{
  "cells": [
    {
      "cell_type": "markdown",
      "metadata": {
        "id": "view-in-github",
        "colab_type": "text"
      },
      "source": [
        "<a href=\"https://colab.research.google.com/github/shimjaeman/PyTorch-Tutorials/blob/main/02_Pytorch_Gradient.ipynb\" target=\"_parent\"><img src=\"https://colab.research.google.com/assets/colab-badge.svg\" alt=\"Open In Colab\"/></a>"
      ]
    },
    {
      "cell_type": "code",
      "execution_count": 73,
      "metadata": {
        "id": "7eb803ee"
      },
      "outputs": [],
      "source": [
        "import torch\n",
        "import torch.nn as nn\n",
        "from torch.optim import SGD # 경사하강법 "
      ],
      "id": "7eb803ee"
    },
    {
      "cell_type": "code",
      "execution_count": 74,
      "metadata": {
        "colab": {
          "base_uri": "https://localhost:8080/"
        },
        "id": "889c669e",
        "outputId": "044c38d7-5eb2-4170-efca-38cecd4209f1"
      },
      "outputs": [
        {
          "output_type": "stream",
          "name": "stdout",
          "text": [
            "미분결과 tensor(4.)\n",
            "미분결과 tensor(8.)\n",
            "미분결과 tensor(12.)\n",
            "미분결과 tensor(16.)\n",
            "미분결과 tensor(20.)\n",
            "미분결과 tensor(24.)\n",
            "미분결과 tensor(28.)\n",
            "미분결과 tensor(32.)\n",
            "미분결과 tensor(36.)\n",
            "미분결과 tensor(40.)\n",
            "미분결과 tensor(44.)\n",
            "미분결과 tensor(48.)\n",
            "미분결과 tensor(52.)\n",
            "미분결과 tensor(56.)\n",
            "미분결과 tensor(60.)\n",
            "미분결과 tensor(64.)\n",
            "미분결과 tensor(68.)\n",
            "미분결과 tensor(72.)\n",
            "미분결과 tensor(76.)\n",
            "미분결과 tensor(80.)\n"
          ]
        }
      ],
      "source": [
        "w = torch.tensor( 2.0, requires_grad = True ) # require_grad => Variable처럼 변경 가능\n",
        "for epoch in range(20):\n",
        "    y = w**2             # w.square() torch.square( w )\n",
        "    # 미분 전 초기화.. (optimizer에 존재)\n",
        "    y.backward()         # backward : 미분\n",
        "    print(\"미분결과\", w.grad ) # 기존에 값에 누적이 되므로 초기화 필요"
      ],
      "id": "889c669e"
    },
    {
      "cell_type": "code",
      "execution_count": 75,
      "metadata": {
        "id": "c1bdb898"
      },
      "outputs": [],
      "source": [
        "x_data = [1,2,3,4,5]\n",
        "y_data = [3,5,7,9,11]"
      ],
      "id": "c1bdb898"
    },
    {
      "cell_type": "code",
      "execution_count": 76,
      "metadata": {
        "id": "ec6a04d6"
      },
      "outputs": [],
      "source": [
        "x = torch.FloatTensor( x_data )  # torch.tensor( x_data, dtype = torch.float32)\n",
        "y = torch.FloatTensor( y_data )"
      ],
      "id": "ec6a04d6"
    },
    {
      "cell_type": "code",
      "execution_count": 77,
      "metadata": {
        "id": "b90e1246",
        "colab": {
          "base_uri": "https://localhost:8080/"
        },
        "outputId": "92719c8e-2f1f-44b4-9edc-b847af04910d"
      },
      "outputs": [
        {
          "output_type": "execute_result",
          "data": {
            "text/plain": [
              "tensor(0.9559, requires_grad=True)"
            ]
          },
          "metadata": {},
          "execution_count": 77
        }
      ],
      "source": [
        "w = torch.tensor ( 1.0, requires_grad = True )\n",
        "b = torch.tensor ( 1.0, requires_grad = True )\n",
        "nn.init.uniform_(w) # w 초기화\n",
        "nn.init.uniform_(b) # b 초기화"
      ],
      "id": "b90e1246"
    },
    {
      "cell_type": "code",
      "execution_count": 78,
      "metadata": {
        "id": "e15fcb2b"
      },
      "outputs": [],
      "source": [
        "def cost ():\n",
        "    hx = w * x + b\n",
        "    c = torch.mean( (hx-y)**2 )\n",
        "    return c"
      ],
      "id": "e15fcb2b"
    },
    {
      "cell_type": "code",
      "execution_count": 79,
      "metadata": {
        "colab": {
          "base_uri": "https://localhost:8080/"
        },
        "id": "ed9bb48d",
        "outputId": "48336dc3-6229-4333-cd09-22744729db4f"
      },
      "outputs": [
        {
          "output_type": "stream",
          "name": "stdout",
          "text": [
            "cost 22.889272689819336\n",
            "cost 13.346723556518555\n",
            "cost 7.785745143890381\n",
            "cost 4.545027732849121\n",
            "cost 2.656445026397705\n",
            "cost 1.5558202266693115\n",
            "cost 0.9143778085708618\n",
            "cost 0.5405250191688538\n",
            "cost 0.32261019945144653\n",
            "cost 0.19556871056556702\n",
            "cost 0.1214841827750206\n",
            "cost 0.07826092094182968\n",
            "cost 0.05302208662033081\n",
            "cost 0.03826380893588066\n",
            "cost 0.029613841325044632\n",
            "cost 0.024523649364709854\n",
            "cost 0.02150833234190941\n",
            "cost 0.019702445715665817\n",
            "cost 0.0186016708612442\n",
            "cost 0.017912069335579872\n",
            "cost 0.01746249571442604\n",
            "cost 0.017153125256299973\n",
            "cost 0.016925757750868797\n",
            "cost 0.016746418550610542\n",
            "cost 0.016595494002103806\n",
            "cost 0.016461368650197983\n",
            "cost 0.016337383538484573\n",
            "cost 0.016219554468989372\n",
            "cost 0.01610570214688778\n",
            "cost 0.01599442958831787\n",
            "cost 0.015885034576058388\n",
            "cost 0.015776846557855606\n",
            "cost 0.015669886022806168\n",
            "cost 0.015563836321234703\n",
            "cost 0.015458549372851849\n",
            "cost 0.015354147180914879\n",
            "cost 0.015250412747263908\n",
            "cost 0.015147457830607891\n",
            "cost 0.015045148320496082\n",
            "cost 0.01494357455521822\n",
            "cost 0.014842728152871132\n",
            "cost 0.014742488041520119\n",
            "cost 0.014642976224422455\n",
            "cost 0.014544072560966015\n",
            "cost 0.014445951208472252\n",
            "cost 0.014348434284329414\n",
            "cost 0.014251637272536755\n",
            "cost 0.014155387878417969\n",
            "cost 0.01405983418226242\n",
            "cost 0.013964937999844551\n",
            "cost 0.01387064903974533\n",
            "cost 0.013776983134448528\n",
            "cost 0.013683997094631195\n",
            "cost 0.013591602444648743\n",
            "cost 0.01349987369030714\n",
            "cost 0.013408747501671314\n",
            "cost 0.013318201526999474\n",
            "cost 0.013228317722678185\n",
            "cost 0.013139018788933754\n",
            "cost 0.013050335459411144\n",
            "cost 0.012962153181433678\n",
            "cost 0.012874710373580456\n",
            "cost 0.01278776116669178\n",
            "cost 0.012701474130153656\n",
            "cost 0.012615704908967018\n",
            "cost 0.012530585750937462\n",
            "cost 0.012446004897356033\n",
            "cost 0.012361990287899971\n",
            "cost 0.012278546579182148\n",
            "cost 0.012195642106235027\n",
            "cost 0.012113330885767937\n",
            "cost 0.0120315570384264\n",
            "cost 0.011950301937758923\n",
            "cost 0.011869647540152073\n",
            "cost 0.01178949885070324\n",
            "cost 0.011709933169186115\n",
            "cost 0.011630902998149395\n",
            "cost 0.011552387848496437\n",
            "cost 0.011474412865936756\n",
            "cost 0.011396958492696285\n",
            "cost 0.011319996789097786\n",
            "cost 0.011243592016398907\n",
            "cost 0.011167665012180805\n",
            "cost 0.01109230425208807\n",
            "cost 0.011017417535185814\n",
            "cost 0.010943038389086723\n",
            "cost 0.010869203135371208\n",
            "cost 0.0107958372682333\n",
            "cost 0.0107229333370924\n",
            "cost 0.010650502517819405\n",
            "cost 0.010578618384897709\n",
            "cost 0.010507255792617798\n",
            "cost 0.010436282493174076\n",
            "cost 0.010365849360823631\n",
            "cost 0.01029589306563139\n",
            "cost 0.010226363316178322\n",
            "cost 0.010157358832657337\n",
            "cost 0.010088769719004631\n",
            "cost 0.010020664893090725\n",
            "cost 0.009953012689948082\n"
          ]
        }
      ],
      "source": [
        "optimizer = SGD( [w,b], lr = 0.01)\n",
        "for epoch in range(100):\n",
        "    c = cost()\n",
        "    optimizer.zero_grad() # 미분 초기화\n",
        "    c.backward() # w,b 미분\n",
        "    optimizer.step() # w = w - lr * 미분 결과, b = b - lr * 미분결과\n",
        "    print(\"cost\", c.item() ) # 상수 --> numpy(x), item()"
      ],
      "id": "ed9bb48d"
    },
    {
      "cell_type": "code",
      "execution_count": 80,
      "metadata": {
        "colab": {
          "base_uri": "https://localhost:8080/"
        },
        "id": "795722aa",
        "outputId": "8d36f9b4-a7ee-4380-c2a6-ce6670a36f31"
      },
      "outputs": [
        {
          "output_type": "stream",
          "name": "stdout",
          "text": [
            "weight : 1.94, bias : 1.23\n"
          ]
        }
      ],
      "source": [
        "w = w.item()\n",
        "b = b.item()\n",
        "print(f\"weight : {w:.2f}, bias : {b:.2f}\")"
      ],
      "id": "795722aa"
    },
    {
      "cell_type": "code",
      "execution_count": 81,
      "metadata": {
        "id": "15ee3b43"
      },
      "outputs": [],
      "source": [
        "def hxfn (xdata):\n",
        "   x = torch.FloatTensor([xdata])\n",
        "   hx = w * x + b\n",
        "   return hx.detach().numpy() # requires_grad = True인 텐서 노드의 경우 detach.numpy()를 사용하여 꺼내야함"
      ],
      "id": "15ee3b43"
    },
    {
      "cell_type": "code",
      "source": [
        "print(\"result :\", hxfn(3))"
      ],
      "metadata": {
        "colab": {
          "base_uri": "https://localhost:8080/"
        },
        "id": "mdMLQ-Rjy3Bn",
        "outputId": "befd9654-63bc-41de-8dc9-ef2876ff4d84"
      },
      "execution_count": 82,
      "outputs": [
        {
          "output_type": "stream",
          "name": "stdout",
          "text": [
            "result : [7.0393972]\n"
          ]
        }
      ],
      "id": "mdMLQ-Rjy3Bn"
    }
  ],
  "metadata": {
    "kernelspec": {
      "display_name": "Python 3 (ipykernel)",
      "language": "python",
      "name": "python3"
    },
    "language_info": {
      "codemirror_mode": {
        "name": "ipython",
        "version": 3
      },
      "file_extension": ".py",
      "mimetype": "text/x-python",
      "name": "python",
      "nbconvert_exporter": "python",
      "pygments_lexer": "ipython3",
      "version": "3.9.13"
    },
    "colab": {
      "provenance": [],
      "include_colab_link": true
    }
  },
  "nbformat": 4,
  "nbformat_minor": 5
}