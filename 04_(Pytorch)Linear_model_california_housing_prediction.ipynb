{
  "nbformat": 4,
  "nbformat_minor": 0,
  "metadata": {
    "colab": {
      "provenance": [],
      "toc_visible": true,
      "authorship_tag": "ABX9TyN7GpWxYJmLZ7oHbiCK1B1o",
      "include_colab_link": true
    },
    "kernelspec": {
      "name": "python3",
      "display_name": "Python 3"
    },
    "language_info": {
      "name": "python"
    },
    "accelerator": "GPU",
    "gpuClass": "standard"
  },
  "cells": [
    {
      "cell_type": "markdown",
      "metadata": {
        "id": "view-in-github",
        "colab_type": "text"
      },
      "source": [
        "<a href=\"https://colab.research.google.com/github/shimjaeman/PyTorch-Tutorials/blob/main/04_(Pytorch)Linear_model_california_housing_prediction.ipynb\" target=\"_parent\"><img src=\"https://colab.research.google.com/assets/colab-badge.svg\" alt=\"Open In Colab\"/></a>"
      ]
    },
    {
      "cell_type": "markdown",
      "source": [
        "# california housing prediction"
      ],
      "metadata": {
        "id": "tkMiH7IWIfD4"
      }
    },
    {
      "cell_type": "markdown",
      "source": [
        "## 데이터 확인 및 전처리\n",
        "\n"
      ],
      "metadata": {
        "id": "r17rGnzkPYHy"
      }
    },
    {
      "cell_type": "code",
      "execution_count": 43,
      "metadata": {
        "id": "rcq9Wgy24U1u"
      },
      "outputs": [],
      "source": [
        "# 기본 라이브러리\n",
        "import numpy as np\n",
        "import pandas as pd\n",
        "import matplotlib.pyplot as plt\n",
        "import seaborn as sns\n",
        "\n",
        "# 데이터 호출 라이브러리\n",
        "from sklearn.datasets import fetch_california_housing\n",
        "\n",
        "# 전처리 라이브러리\n",
        "from scipy.special import boxcox1p\n",
        "from sklearn.preprocessing import MinMaxScaler\n",
        "from sklearn.model_selection import train_test_split\n",
        "from sklearn.metrics import mean_squared_error\n",
        "\n",
        "# Pytorch 라이브러리\n",
        "import torch\n",
        "import torchvision\n",
        "import torch.nn as nn \n",
        "import torch.optim as optim\n",
        "import torch.nn.functional as F \n",
        "from torch.utils.data import Dataset, DataLoader, SubsetRandomSampler\n",
        "import torchvision.transforms as transforms \n",
        "from tqdm import tqdm  \n",
        "\n",
        "# colab drive 호출\n",
        "from google.colab import drive"
      ]
    },
    {
      "cell_type": "code",
      "source": [
        "# distplot 함수 \n",
        "def distplot_check (cols):\n",
        "    cols_len = len(cols)\n",
        "    if cols_len % 2 == 0 :\n",
        "        row_size = (cols_len // 2)\n",
        "    else : \n",
        "        row_size = (cols_len // 2) + 1\n",
        "\n",
        "    fig, axes = plt.subplots(row_size, 2, figsize=(25, 15))\n",
        "    plt.subplots_adjust(wspace=0.3,  hspace=0.7)\n",
        "    sns.set_theme(style=\"white\", context=\"talk\")\n",
        "    row, col = 0, 0\n",
        "\n",
        "    for sca_col in cols: \n",
        "        df_sca = train_data[sca_col].values\n",
        "\n",
        "        if col > 1:\n",
        "            row += 1\n",
        "            col = 0\n",
        "            sns.displot(df_sca, ax=axes[row, col])\n",
        "            axes[row, col].set_title(sca_col)\n",
        "            col += 1\n",
        "\n",
        "        else : \n",
        "            sns.displot(df_sca, ax=axes[row, col])\n",
        "            axes[row, col].set_title(sca_col)\n",
        "            col += 1      "
      ],
      "metadata": {
        "id": "EPMLN9qsLw5U"
      },
      "execution_count": 20,
      "outputs": []
    },
    {
      "cell_type": "code",
      "source": [
        "# 비대칭 데이터 확인 \n",
        "def skewed_check (date, col):\n",
        "    skewness = date[col].apply(lambda x : x.skew()).sort_values(ascending=False)\n",
        "    sk_df = pd.DataFrame(skewness, columns = [\"skewness\"])\n",
        "    sk_df.sort_values(by=\"skewness\", ascending=False)\n",
        "    sk_df[\"skw\"] = abs(sk_df[\"skewness\"])\n",
        "    sk_df = sk_df.sort_values(by=\"skw\", ascending=False).drop(\"skewness\", axis=1)\n",
        "    skw_features = np.unique(sk_df[sk_df.skw > 0.5].index)\n",
        "    return skw_features"
      ],
      "metadata": {
        "id": "yI15Xvz7F3Is"
      },
      "execution_count": 21,
      "outputs": []
    },
    {
      "cell_type": "markdown",
      "source": [
        "> 변수 설명\n",
        "\n",
        "\n",
        "  - longitude : 경도\n",
        "  - latitude : 위도\n",
        "  - housing_median_age : 주택 나이 (중앙값)\n",
        "  - total_rooms : 전체 방 수\n",
        "  - total_bedrooms : 전체 침실 수\n",
        "  - population : 인구\n",
        "  - households : 세대\n",
        "  - median_income : 소득(중앙값)\n",
        "  - median_house_value : 주택 가치(중앙값)\n",
        "  - ocean_proximity : 바다 근접도"
      ],
      "metadata": {
        "id": "-yH6eu7DIJs6"
      }
    },
    {
      "cell_type": "code",
      "source": [
        "california = fetch_california_housing()\n",
        "train= pd.DataFrame(california.data, columns=california.feature_names)\n",
        "test = pd.DataFrame(california.target, columns=california.target_names)"
      ],
      "metadata": {
        "id": "LjtKC4NCF234"
      },
      "execution_count": 22,
      "outputs": []
    },
    {
      "cell_type": "code",
      "source": [
        "train.info()"
      ],
      "metadata": {
        "colab": {
          "base_uri": "https://localhost:8080/"
        },
        "id": "55H0hCY4F2_w",
        "outputId": "f8542767-7142-4247-8ead-865491d4b15f"
      },
      "execution_count": 23,
      "outputs": [
        {
          "output_type": "stream",
          "name": "stdout",
          "text": [
            "<class 'pandas.core.frame.DataFrame'>\n",
            "RangeIndex: 20640 entries, 0 to 20639\n",
            "Data columns (total 8 columns):\n",
            " #   Column      Non-Null Count  Dtype  \n",
            "---  ------      --------------  -----  \n",
            " 0   MedInc      20640 non-null  float64\n",
            " 1   HouseAge    20640 non-null  float64\n",
            " 2   AveRooms    20640 non-null  float64\n",
            " 3   AveBedrms   20640 non-null  float64\n",
            " 4   Population  20640 non-null  float64\n",
            " 5   AveOccup    20640 non-null  float64\n",
            " 6   Latitude    20640 non-null  float64\n",
            " 7   Longitude   20640 non-null  float64\n",
            "dtypes: float64(8)\n",
            "memory usage: 1.3 MB\n"
          ]
        }
      ]
    },
    {
      "cell_type": "code",
      "source": [
        "train.describe()"
      ],
      "metadata": {
        "colab": {
          "base_uri": "https://localhost:8080/",
          "height": 364
        },
        "id": "uOfUmUtzF3CI",
        "outputId": "4e83d706-4ab3-43a7-9c26-1ee9a239e2b5"
      },
      "execution_count": 24,
      "outputs": [
        {
          "output_type": "execute_result",
          "data": {
            "text/plain": [
              "             MedInc      HouseAge      AveRooms     AveBedrms    Population  \\\n",
              "count  20640.000000  20640.000000  20640.000000  20640.000000  20640.000000   \n",
              "mean       3.870671     28.639486      5.429000      1.096675   1425.476744   \n",
              "std        1.899822     12.585558      2.474173      0.473911   1132.462122   \n",
              "min        0.499900      1.000000      0.846154      0.333333      3.000000   \n",
              "25%        2.563400     18.000000      4.440716      1.006079    787.000000   \n",
              "50%        3.534800     29.000000      5.229129      1.048780   1166.000000   \n",
              "75%        4.743250     37.000000      6.052381      1.099526   1725.000000   \n",
              "max       15.000100     52.000000    141.909091     34.066667  35682.000000   \n",
              "\n",
              "           AveOccup      Latitude     Longitude  \n",
              "count  20640.000000  20640.000000  20640.000000  \n",
              "mean       3.070655     35.631861   -119.569704  \n",
              "std       10.386050      2.135952      2.003532  \n",
              "min        0.692308     32.540000   -124.350000  \n",
              "25%        2.429741     33.930000   -121.800000  \n",
              "50%        2.818116     34.260000   -118.490000  \n",
              "75%        3.282261     37.710000   -118.010000  \n",
              "max     1243.333333     41.950000   -114.310000  "
            ],
            "text/html": [
              "\n",
              "  <div id=\"df-50e84bb2-16dd-4ea7-95e4-49d7ac0b2ee7\">\n",
              "    <div class=\"colab-df-container\">\n",
              "      <div>\n",
              "<style scoped>\n",
              "    .dataframe tbody tr th:only-of-type {\n",
              "        vertical-align: middle;\n",
              "    }\n",
              "\n",
              "    .dataframe tbody tr th {\n",
              "        vertical-align: top;\n",
              "    }\n",
              "\n",
              "    .dataframe thead th {\n",
              "        text-align: right;\n",
              "    }\n",
              "</style>\n",
              "<table border=\"1\" class=\"dataframe\">\n",
              "  <thead>\n",
              "    <tr style=\"text-align: right;\">\n",
              "      <th></th>\n",
              "      <th>MedInc</th>\n",
              "      <th>HouseAge</th>\n",
              "      <th>AveRooms</th>\n",
              "      <th>AveBedrms</th>\n",
              "      <th>Population</th>\n",
              "      <th>AveOccup</th>\n",
              "      <th>Latitude</th>\n",
              "      <th>Longitude</th>\n",
              "    </tr>\n",
              "  </thead>\n",
              "  <tbody>\n",
              "    <tr>\n",
              "      <th>count</th>\n",
              "      <td>20640.000000</td>\n",
              "      <td>20640.000000</td>\n",
              "      <td>20640.000000</td>\n",
              "      <td>20640.000000</td>\n",
              "      <td>20640.000000</td>\n",
              "      <td>20640.000000</td>\n",
              "      <td>20640.000000</td>\n",
              "      <td>20640.000000</td>\n",
              "    </tr>\n",
              "    <tr>\n",
              "      <th>mean</th>\n",
              "      <td>3.870671</td>\n",
              "      <td>28.639486</td>\n",
              "      <td>5.429000</td>\n",
              "      <td>1.096675</td>\n",
              "      <td>1425.476744</td>\n",
              "      <td>3.070655</td>\n",
              "      <td>35.631861</td>\n",
              "      <td>-119.569704</td>\n",
              "    </tr>\n",
              "    <tr>\n",
              "      <th>std</th>\n",
              "      <td>1.899822</td>\n",
              "      <td>12.585558</td>\n",
              "      <td>2.474173</td>\n",
              "      <td>0.473911</td>\n",
              "      <td>1132.462122</td>\n",
              "      <td>10.386050</td>\n",
              "      <td>2.135952</td>\n",
              "      <td>2.003532</td>\n",
              "    </tr>\n",
              "    <tr>\n",
              "      <th>min</th>\n",
              "      <td>0.499900</td>\n",
              "      <td>1.000000</td>\n",
              "      <td>0.846154</td>\n",
              "      <td>0.333333</td>\n",
              "      <td>3.000000</td>\n",
              "      <td>0.692308</td>\n",
              "      <td>32.540000</td>\n",
              "      <td>-124.350000</td>\n",
              "    </tr>\n",
              "    <tr>\n",
              "      <th>25%</th>\n",
              "      <td>2.563400</td>\n",
              "      <td>18.000000</td>\n",
              "      <td>4.440716</td>\n",
              "      <td>1.006079</td>\n",
              "      <td>787.000000</td>\n",
              "      <td>2.429741</td>\n",
              "      <td>33.930000</td>\n",
              "      <td>-121.800000</td>\n",
              "    </tr>\n",
              "    <tr>\n",
              "      <th>50%</th>\n",
              "      <td>3.534800</td>\n",
              "      <td>29.000000</td>\n",
              "      <td>5.229129</td>\n",
              "      <td>1.048780</td>\n",
              "      <td>1166.000000</td>\n",
              "      <td>2.818116</td>\n",
              "      <td>34.260000</td>\n",
              "      <td>-118.490000</td>\n",
              "    </tr>\n",
              "    <tr>\n",
              "      <th>75%</th>\n",
              "      <td>4.743250</td>\n",
              "      <td>37.000000</td>\n",
              "      <td>6.052381</td>\n",
              "      <td>1.099526</td>\n",
              "      <td>1725.000000</td>\n",
              "      <td>3.282261</td>\n",
              "      <td>37.710000</td>\n",
              "      <td>-118.010000</td>\n",
              "    </tr>\n",
              "    <tr>\n",
              "      <th>max</th>\n",
              "      <td>15.000100</td>\n",
              "      <td>52.000000</td>\n",
              "      <td>141.909091</td>\n",
              "      <td>34.066667</td>\n",
              "      <td>35682.000000</td>\n",
              "      <td>1243.333333</td>\n",
              "      <td>41.950000</td>\n",
              "      <td>-114.310000</td>\n",
              "    </tr>\n",
              "  </tbody>\n",
              "</table>\n",
              "</div>\n",
              "      <button class=\"colab-df-convert\" onclick=\"convertToInteractive('df-50e84bb2-16dd-4ea7-95e4-49d7ac0b2ee7')\"\n",
              "              title=\"Convert this dataframe to an interactive table.\"\n",
              "              style=\"display:none;\">\n",
              "        \n",
              "  <svg xmlns=\"http://www.w3.org/2000/svg\" height=\"24px\"viewBox=\"0 0 24 24\"\n",
              "       width=\"24px\">\n",
              "    <path d=\"M0 0h24v24H0V0z\" fill=\"none\"/>\n",
              "    <path d=\"M18.56 5.44l.94 2.06.94-2.06 2.06-.94-2.06-.94-.94-2.06-.94 2.06-2.06.94zm-11 1L8.5 8.5l.94-2.06 2.06-.94-2.06-.94L8.5 2.5l-.94 2.06-2.06.94zm10 10l.94 2.06.94-2.06 2.06-.94-2.06-.94-.94-2.06-.94 2.06-2.06.94z\"/><path d=\"M17.41 7.96l-1.37-1.37c-.4-.4-.92-.59-1.43-.59-.52 0-1.04.2-1.43.59L10.3 9.45l-7.72 7.72c-.78.78-.78 2.05 0 2.83L4 21.41c.39.39.9.59 1.41.59.51 0 1.02-.2 1.41-.59l7.78-7.78 2.81-2.81c.8-.78.8-2.07 0-2.86zM5.41 20L4 18.59l7.72-7.72 1.47 1.35L5.41 20z\"/>\n",
              "  </svg>\n",
              "      </button>\n",
              "      \n",
              "  <style>\n",
              "    .colab-df-container {\n",
              "      display:flex;\n",
              "      flex-wrap:wrap;\n",
              "      gap: 12px;\n",
              "    }\n",
              "\n",
              "    .colab-df-convert {\n",
              "      background-color: #E8F0FE;\n",
              "      border: none;\n",
              "      border-radius: 50%;\n",
              "      cursor: pointer;\n",
              "      display: none;\n",
              "      fill: #1967D2;\n",
              "      height: 32px;\n",
              "      padding: 0 0 0 0;\n",
              "      width: 32px;\n",
              "    }\n",
              "\n",
              "    .colab-df-convert:hover {\n",
              "      background-color: #E2EBFA;\n",
              "      box-shadow: 0px 1px 2px rgba(60, 64, 67, 0.3), 0px 1px 3px 1px rgba(60, 64, 67, 0.15);\n",
              "      fill: #174EA6;\n",
              "    }\n",
              "\n",
              "    [theme=dark] .colab-df-convert {\n",
              "      background-color: #3B4455;\n",
              "      fill: #D2E3FC;\n",
              "    }\n",
              "\n",
              "    [theme=dark] .colab-df-convert:hover {\n",
              "      background-color: #434B5C;\n",
              "      box-shadow: 0px 1px 3px 1px rgba(0, 0, 0, 0.15);\n",
              "      filter: drop-shadow(0px 1px 2px rgba(0, 0, 0, 0.3));\n",
              "      fill: #FFFFFF;\n",
              "    }\n",
              "  </style>\n",
              "\n",
              "      <script>\n",
              "        const buttonEl =\n",
              "          document.querySelector('#df-50e84bb2-16dd-4ea7-95e4-49d7ac0b2ee7 button.colab-df-convert');\n",
              "        buttonEl.style.display =\n",
              "          google.colab.kernel.accessAllowed ? 'block' : 'none';\n",
              "\n",
              "        async function convertToInteractive(key) {\n",
              "          const element = document.querySelector('#df-50e84bb2-16dd-4ea7-95e4-49d7ac0b2ee7');\n",
              "          const dataTable =\n",
              "            await google.colab.kernel.invokeFunction('convertToInteractive',\n",
              "                                                     [key], {});\n",
              "          if (!dataTable) return;\n",
              "\n",
              "          const docLinkHtml = 'Like what you see? Visit the ' +\n",
              "            '<a target=\"_blank\" href=https://colab.research.google.com/notebooks/data_table.ipynb>data table notebook</a>'\n",
              "            + ' to learn more about interactive tables.';\n",
              "          element.innerHTML = '';\n",
              "          dataTable['output_type'] = 'display_data';\n",
              "          await google.colab.output.renderOutput(dataTable, element);\n",
              "          const docLink = document.createElement('div');\n",
              "          docLink.innerHTML = docLinkHtml;\n",
              "          element.appendChild(docLink);\n",
              "        }\n",
              "      </script>\n",
              "    </div>\n",
              "  </div>\n",
              "  "
            ]
          },
          "metadata": {},
          "execution_count": 24
        }
      ]
    },
    {
      "cell_type": "code",
      "source": [
        "train.isnull().sum()"
      ],
      "metadata": {
        "colab": {
          "base_uri": "https://localhost:8080/"
        },
        "id": "Jd12kAMBLP8Z",
        "outputId": "c00743bd-d71c-457d-eb50-49c91feb2d1a"
      },
      "execution_count": 25,
      "outputs": [
        {
          "output_type": "execute_result",
          "data": {
            "text/plain": [
              "MedInc        0\n",
              "HouseAge      0\n",
              "AveRooms      0\n",
              "AveBedrms     0\n",
              "Population    0\n",
              "AveOccup      0\n",
              "Latitude      0\n",
              "Longitude     0\n",
              "dtype: int64"
            ]
          },
          "metadata": {},
          "execution_count": 25
        }
      ]
    },
    {
      "cell_type": "code",
      "source": [
        "train_sk = skewed_check(train, train.columns)"
      ],
      "metadata": {
        "id": "jnETDmYsLVmn"
      },
      "execution_count": 26,
      "outputs": []
    },
    {
      "cell_type": "code",
      "source": [
        "# Box-Cox Transform\n",
        "lam = 0.01\n",
        "for col in train_sk:\n",
        "  train[col] = boxcox1p(train[col], lam)\n",
        "\n",
        "trans_skewness = train[train_sk].apply(lambda x : x.skew()).sort_values(ascending=False)\n",
        "trans_sk_df = pd.DataFrame(trans_skewness, columns = [\"skewness\"])\n",
        "trans_sk_df.sort_values(by=\"skewness\", ascending=False)\n",
        "trans_sk_df[\"skw\"] = abs(trans_sk_df[\"skewness\"])\n",
        "trans_sk_df = trans_sk_df.sort_values(by=\"skw\", ascending=False).drop(\"skewness\", axis=1)\n",
        "trans_sk_df"
      ],
      "metadata": {
        "colab": {
          "base_uri": "https://localhost:8080/",
          "height": 206
        },
        "id": "s8lNRUdJLVpC",
        "outputId": "98cde180-5d78-4857-d7f7-f44b46878dec"
      },
      "execution_count": 27,
      "outputs": [
        {
          "output_type": "execute_result",
          "data": {
            "text/plain": [
              "                 skw\n",
              "AveBedrms   9.065994\n",
              "AveOccup    4.084940\n",
              "AveRooms    1.433814\n",
              "Population  0.985131\n",
              "MedInc      0.237857"
            ],
            "text/html": [
              "\n",
              "  <div id=\"df-43aa5469-5e47-48cb-ac5c-89ec8027aaba\">\n",
              "    <div class=\"colab-df-container\">\n",
              "      <div>\n",
              "<style scoped>\n",
              "    .dataframe tbody tr th:only-of-type {\n",
              "        vertical-align: middle;\n",
              "    }\n",
              "\n",
              "    .dataframe tbody tr th {\n",
              "        vertical-align: top;\n",
              "    }\n",
              "\n",
              "    .dataframe thead th {\n",
              "        text-align: right;\n",
              "    }\n",
              "</style>\n",
              "<table border=\"1\" class=\"dataframe\">\n",
              "  <thead>\n",
              "    <tr style=\"text-align: right;\">\n",
              "      <th></th>\n",
              "      <th>skw</th>\n",
              "    </tr>\n",
              "  </thead>\n",
              "  <tbody>\n",
              "    <tr>\n",
              "      <th>AveBedrms</th>\n",
              "      <td>9.065994</td>\n",
              "    </tr>\n",
              "    <tr>\n",
              "      <th>AveOccup</th>\n",
              "      <td>4.084940</td>\n",
              "    </tr>\n",
              "    <tr>\n",
              "      <th>AveRooms</th>\n",
              "      <td>1.433814</td>\n",
              "    </tr>\n",
              "    <tr>\n",
              "      <th>Population</th>\n",
              "      <td>0.985131</td>\n",
              "    </tr>\n",
              "    <tr>\n",
              "      <th>MedInc</th>\n",
              "      <td>0.237857</td>\n",
              "    </tr>\n",
              "  </tbody>\n",
              "</table>\n",
              "</div>\n",
              "      <button class=\"colab-df-convert\" onclick=\"convertToInteractive('df-43aa5469-5e47-48cb-ac5c-89ec8027aaba')\"\n",
              "              title=\"Convert this dataframe to an interactive table.\"\n",
              "              style=\"display:none;\">\n",
              "        \n",
              "  <svg xmlns=\"http://www.w3.org/2000/svg\" height=\"24px\"viewBox=\"0 0 24 24\"\n",
              "       width=\"24px\">\n",
              "    <path d=\"M0 0h24v24H0V0z\" fill=\"none\"/>\n",
              "    <path d=\"M18.56 5.44l.94 2.06.94-2.06 2.06-.94-2.06-.94-.94-2.06-.94 2.06-2.06.94zm-11 1L8.5 8.5l.94-2.06 2.06-.94-2.06-.94L8.5 2.5l-.94 2.06-2.06.94zm10 10l.94 2.06.94-2.06 2.06-.94-2.06-.94-.94-2.06-.94 2.06-2.06.94z\"/><path d=\"M17.41 7.96l-1.37-1.37c-.4-.4-.92-.59-1.43-.59-.52 0-1.04.2-1.43.59L10.3 9.45l-7.72 7.72c-.78.78-.78 2.05 0 2.83L4 21.41c.39.39.9.59 1.41.59.51 0 1.02-.2 1.41-.59l7.78-7.78 2.81-2.81c.8-.78.8-2.07 0-2.86zM5.41 20L4 18.59l7.72-7.72 1.47 1.35L5.41 20z\"/>\n",
              "  </svg>\n",
              "      </button>\n",
              "      \n",
              "  <style>\n",
              "    .colab-df-container {\n",
              "      display:flex;\n",
              "      flex-wrap:wrap;\n",
              "      gap: 12px;\n",
              "    }\n",
              "\n",
              "    .colab-df-convert {\n",
              "      background-color: #E8F0FE;\n",
              "      border: none;\n",
              "      border-radius: 50%;\n",
              "      cursor: pointer;\n",
              "      display: none;\n",
              "      fill: #1967D2;\n",
              "      height: 32px;\n",
              "      padding: 0 0 0 0;\n",
              "      width: 32px;\n",
              "    }\n",
              "\n",
              "    .colab-df-convert:hover {\n",
              "      background-color: #E2EBFA;\n",
              "      box-shadow: 0px 1px 2px rgba(60, 64, 67, 0.3), 0px 1px 3px 1px rgba(60, 64, 67, 0.15);\n",
              "      fill: #174EA6;\n",
              "    }\n",
              "\n",
              "    [theme=dark] .colab-df-convert {\n",
              "      background-color: #3B4455;\n",
              "      fill: #D2E3FC;\n",
              "    }\n",
              "\n",
              "    [theme=dark] .colab-df-convert:hover {\n",
              "      background-color: #434B5C;\n",
              "      box-shadow: 0px 1px 3px 1px rgba(0, 0, 0, 0.15);\n",
              "      filter: drop-shadow(0px 1px 2px rgba(0, 0, 0, 0.3));\n",
              "      fill: #FFFFFF;\n",
              "    }\n",
              "  </style>\n",
              "\n",
              "      <script>\n",
              "        const buttonEl =\n",
              "          document.querySelector('#df-43aa5469-5e47-48cb-ac5c-89ec8027aaba button.colab-df-convert');\n",
              "        buttonEl.style.display =\n",
              "          google.colab.kernel.accessAllowed ? 'block' : 'none';\n",
              "\n",
              "        async function convertToInteractive(key) {\n",
              "          const element = document.querySelector('#df-43aa5469-5e47-48cb-ac5c-89ec8027aaba');\n",
              "          const dataTable =\n",
              "            await google.colab.kernel.invokeFunction('convertToInteractive',\n",
              "                                                     [key], {});\n",
              "          if (!dataTable) return;\n",
              "\n",
              "          const docLinkHtml = 'Like what you see? Visit the ' +\n",
              "            '<a target=\"_blank\" href=https://colab.research.google.com/notebooks/data_table.ipynb>data table notebook</a>'\n",
              "            + ' to learn more about interactive tables.';\n",
              "          element.innerHTML = '';\n",
              "          dataTable['output_type'] = 'display_data';\n",
              "          await google.colab.output.renderOutput(dataTable, element);\n",
              "          const docLink = document.createElement('div');\n",
              "          docLink.innerHTML = docLinkHtml;\n",
              "          element.appendChild(docLink);\n",
              "        }\n",
              "      </script>\n",
              "    </div>\n",
              "  </div>\n",
              "  "
            ]
          },
          "metadata": {},
          "execution_count": 27
        }
      ]
    },
    {
      "cell_type": "code",
      "source": [
        "# 각 컬럼 스케일링 수행 \n",
        "Scaler = MinMaxScaler()\n",
        "train_data = Scaler.fit_transform(train)\n",
        "train_df = pd.DataFrame(train_data, columns = train.columns)\n",
        "train_df"
      ],
      "metadata": {
        "colab": {
          "base_uri": "https://localhost:8080/",
          "height": 487
        },
        "id": "5bdxd3HHM87R",
        "outputId": "44289276-d110-439b-b26d-f2624a45a54f"
      },
      "execution_count": 28,
      "outputs": [
        {
          "output_type": "execute_result",
          "data": {
            "text/plain": [
              "         MedInc  HouseAge  AveRooms  AveBedrms  Population  AveOccup  \\\n",
              "0      0.769847  0.784314  0.331857   0.125819    0.471423  0.109217   \n",
              "1      0.768760  0.392157  0.309475   0.117966    0.693803  0.089453   \n",
              "2      0.718174  1.000000  0.366419   0.133140    0.518811  0.119126   \n",
              "3      0.625902  1.000000  0.295820   0.133084    0.531773  0.108900   \n",
              "4      0.492478  1.000000  0.310848   0.134251    0.533146  0.092811   \n",
              "...         ...       ...       ...        ...         ...       ...   \n",
              "20635  0.223825  0.470588  0.268447   0.141747    0.577586  0.109426   \n",
              "20636  0.362022  0.333333  0.305531   0.166565    0.482410  0.131090   \n",
              "20637  0.246128  0.313725  0.274398   0.139865    0.597013  0.099349   \n",
              "20638  0.271366  0.333333  0.278903   0.147166    0.563063  0.090086   \n",
              "20639  0.341628  0.294118  0.276195   0.145819    0.632573  0.111746   \n",
              "\n",
              "       Latitude  Longitude  \n",
              "0      0.567481   0.211155  \n",
              "1      0.565356   0.212151  \n",
              "2      0.564293   0.210159  \n",
              "3      0.564293   0.209163  \n",
              "4      0.564293   0.209163  \n",
              "...         ...        ...  \n",
              "20635  0.737513   0.324701  \n",
              "20636  0.738576   0.312749  \n",
              "20637  0.732200   0.311753  \n",
              "20638  0.732200   0.301793  \n",
              "20639  0.725824   0.309761  \n",
              "\n",
              "[20640 rows x 8 columns]"
            ],
            "text/html": [
              "\n",
              "  <div id=\"df-52ab7eb6-56d0-4eed-b126-70a0c66cee71\">\n",
              "    <div class=\"colab-df-container\">\n",
              "      <div>\n",
              "<style scoped>\n",
              "    .dataframe tbody tr th:only-of-type {\n",
              "        vertical-align: middle;\n",
              "    }\n",
              "\n",
              "    .dataframe tbody tr th {\n",
              "        vertical-align: top;\n",
              "    }\n",
              "\n",
              "    .dataframe thead th {\n",
              "        text-align: right;\n",
              "    }\n",
              "</style>\n",
              "<table border=\"1\" class=\"dataframe\">\n",
              "  <thead>\n",
              "    <tr style=\"text-align: right;\">\n",
              "      <th></th>\n",
              "      <th>MedInc</th>\n",
              "      <th>HouseAge</th>\n",
              "      <th>AveRooms</th>\n",
              "      <th>AveBedrms</th>\n",
              "      <th>Population</th>\n",
              "      <th>AveOccup</th>\n",
              "      <th>Latitude</th>\n",
              "      <th>Longitude</th>\n",
              "    </tr>\n",
              "  </thead>\n",
              "  <tbody>\n",
              "    <tr>\n",
              "      <th>0</th>\n",
              "      <td>0.769847</td>\n",
              "      <td>0.784314</td>\n",
              "      <td>0.331857</td>\n",
              "      <td>0.125819</td>\n",
              "      <td>0.471423</td>\n",
              "      <td>0.109217</td>\n",
              "      <td>0.567481</td>\n",
              "      <td>0.211155</td>\n",
              "    </tr>\n",
              "    <tr>\n",
              "      <th>1</th>\n",
              "      <td>0.768760</td>\n",
              "      <td>0.392157</td>\n",
              "      <td>0.309475</td>\n",
              "      <td>0.117966</td>\n",
              "      <td>0.693803</td>\n",
              "      <td>0.089453</td>\n",
              "      <td>0.565356</td>\n",
              "      <td>0.212151</td>\n",
              "    </tr>\n",
              "    <tr>\n",
              "      <th>2</th>\n",
              "      <td>0.718174</td>\n",
              "      <td>1.000000</td>\n",
              "      <td>0.366419</td>\n",
              "      <td>0.133140</td>\n",
              "      <td>0.518811</td>\n",
              "      <td>0.119126</td>\n",
              "      <td>0.564293</td>\n",
              "      <td>0.210159</td>\n",
              "    </tr>\n",
              "    <tr>\n",
              "      <th>3</th>\n",
              "      <td>0.625902</td>\n",
              "      <td>1.000000</td>\n",
              "      <td>0.295820</td>\n",
              "      <td>0.133084</td>\n",
              "      <td>0.531773</td>\n",
              "      <td>0.108900</td>\n",
              "      <td>0.564293</td>\n",
              "      <td>0.209163</td>\n",
              "    </tr>\n",
              "    <tr>\n",
              "      <th>4</th>\n",
              "      <td>0.492478</td>\n",
              "      <td>1.000000</td>\n",
              "      <td>0.310848</td>\n",
              "      <td>0.134251</td>\n",
              "      <td>0.533146</td>\n",
              "      <td>0.092811</td>\n",
              "      <td>0.564293</td>\n",
              "      <td>0.209163</td>\n",
              "    </tr>\n",
              "    <tr>\n",
              "      <th>...</th>\n",
              "      <td>...</td>\n",
              "      <td>...</td>\n",
              "      <td>...</td>\n",
              "      <td>...</td>\n",
              "      <td>...</td>\n",
              "      <td>...</td>\n",
              "      <td>...</td>\n",
              "      <td>...</td>\n",
              "    </tr>\n",
              "    <tr>\n",
              "      <th>20635</th>\n",
              "      <td>0.223825</td>\n",
              "      <td>0.470588</td>\n",
              "      <td>0.268447</td>\n",
              "      <td>0.141747</td>\n",
              "      <td>0.577586</td>\n",
              "      <td>0.109426</td>\n",
              "      <td>0.737513</td>\n",
              "      <td>0.324701</td>\n",
              "    </tr>\n",
              "    <tr>\n",
              "      <th>20636</th>\n",
              "      <td>0.362022</td>\n",
              "      <td>0.333333</td>\n",
              "      <td>0.305531</td>\n",
              "      <td>0.166565</td>\n",
              "      <td>0.482410</td>\n",
              "      <td>0.131090</td>\n",
              "      <td>0.738576</td>\n",
              "      <td>0.312749</td>\n",
              "    </tr>\n",
              "    <tr>\n",
              "      <th>20637</th>\n",
              "      <td>0.246128</td>\n",
              "      <td>0.313725</td>\n",
              "      <td>0.274398</td>\n",
              "      <td>0.139865</td>\n",
              "      <td>0.597013</td>\n",
              "      <td>0.099349</td>\n",
              "      <td>0.732200</td>\n",
              "      <td>0.311753</td>\n",
              "    </tr>\n",
              "    <tr>\n",
              "      <th>20638</th>\n",
              "      <td>0.271366</td>\n",
              "      <td>0.333333</td>\n",
              "      <td>0.278903</td>\n",
              "      <td>0.147166</td>\n",
              "      <td>0.563063</td>\n",
              "      <td>0.090086</td>\n",
              "      <td>0.732200</td>\n",
              "      <td>0.301793</td>\n",
              "    </tr>\n",
              "    <tr>\n",
              "      <th>20639</th>\n",
              "      <td>0.341628</td>\n",
              "      <td>0.294118</td>\n",
              "      <td>0.276195</td>\n",
              "      <td>0.145819</td>\n",
              "      <td>0.632573</td>\n",
              "      <td>0.111746</td>\n",
              "      <td>0.725824</td>\n",
              "      <td>0.309761</td>\n",
              "    </tr>\n",
              "  </tbody>\n",
              "</table>\n",
              "<p>20640 rows × 8 columns</p>\n",
              "</div>\n",
              "      <button class=\"colab-df-convert\" onclick=\"convertToInteractive('df-52ab7eb6-56d0-4eed-b126-70a0c66cee71')\"\n",
              "              title=\"Convert this dataframe to an interactive table.\"\n",
              "              style=\"display:none;\">\n",
              "        \n",
              "  <svg xmlns=\"http://www.w3.org/2000/svg\" height=\"24px\"viewBox=\"0 0 24 24\"\n",
              "       width=\"24px\">\n",
              "    <path d=\"M0 0h24v24H0V0z\" fill=\"none\"/>\n",
              "    <path d=\"M18.56 5.44l.94 2.06.94-2.06 2.06-.94-2.06-.94-.94-2.06-.94 2.06-2.06.94zm-11 1L8.5 8.5l.94-2.06 2.06-.94-2.06-.94L8.5 2.5l-.94 2.06-2.06.94zm10 10l.94 2.06.94-2.06 2.06-.94-2.06-.94-.94-2.06-.94 2.06-2.06.94z\"/><path d=\"M17.41 7.96l-1.37-1.37c-.4-.4-.92-.59-1.43-.59-.52 0-1.04.2-1.43.59L10.3 9.45l-7.72 7.72c-.78.78-.78 2.05 0 2.83L4 21.41c.39.39.9.59 1.41.59.51 0 1.02-.2 1.41-.59l7.78-7.78 2.81-2.81c.8-.78.8-2.07 0-2.86zM5.41 20L4 18.59l7.72-7.72 1.47 1.35L5.41 20z\"/>\n",
              "  </svg>\n",
              "      </button>\n",
              "      \n",
              "  <style>\n",
              "    .colab-df-container {\n",
              "      display:flex;\n",
              "      flex-wrap:wrap;\n",
              "      gap: 12px;\n",
              "    }\n",
              "\n",
              "    .colab-df-convert {\n",
              "      background-color: #E8F0FE;\n",
              "      border: none;\n",
              "      border-radius: 50%;\n",
              "      cursor: pointer;\n",
              "      display: none;\n",
              "      fill: #1967D2;\n",
              "      height: 32px;\n",
              "      padding: 0 0 0 0;\n",
              "      width: 32px;\n",
              "    }\n",
              "\n",
              "    .colab-df-convert:hover {\n",
              "      background-color: #E2EBFA;\n",
              "      box-shadow: 0px 1px 2px rgba(60, 64, 67, 0.3), 0px 1px 3px 1px rgba(60, 64, 67, 0.15);\n",
              "      fill: #174EA6;\n",
              "    }\n",
              "\n",
              "    [theme=dark] .colab-df-convert {\n",
              "      background-color: #3B4455;\n",
              "      fill: #D2E3FC;\n",
              "    }\n",
              "\n",
              "    [theme=dark] .colab-df-convert:hover {\n",
              "      background-color: #434B5C;\n",
              "      box-shadow: 0px 1px 3px 1px rgba(0, 0, 0, 0.15);\n",
              "      filter: drop-shadow(0px 1px 2px rgba(0, 0, 0, 0.3));\n",
              "      fill: #FFFFFF;\n",
              "    }\n",
              "  </style>\n",
              "\n",
              "      <script>\n",
              "        const buttonEl =\n",
              "          document.querySelector('#df-52ab7eb6-56d0-4eed-b126-70a0c66cee71 button.colab-df-convert');\n",
              "        buttonEl.style.display =\n",
              "          google.colab.kernel.accessAllowed ? 'block' : 'none';\n",
              "\n",
              "        async function convertToInteractive(key) {\n",
              "          const element = document.querySelector('#df-52ab7eb6-56d0-4eed-b126-70a0c66cee71');\n",
              "          const dataTable =\n",
              "            await google.colab.kernel.invokeFunction('convertToInteractive',\n",
              "                                                     [key], {});\n",
              "          if (!dataTable) return;\n",
              "\n",
              "          const docLinkHtml = 'Like what you see? Visit the ' +\n",
              "            '<a target=\"_blank\" href=https://colab.research.google.com/notebooks/data_table.ipynb>data table notebook</a>'\n",
              "            + ' to learn more about interactive tables.';\n",
              "          element.innerHTML = '';\n",
              "          dataTable['output_type'] = 'display_data';\n",
              "          await google.colab.output.renderOutput(dataTable, element);\n",
              "          const docLink = document.createElement('div');\n",
              "          docLink.innerHTML = docLinkHtml;\n",
              "          element.appendChild(docLink);\n",
              "        }\n",
              "      </script>\n",
              "    </div>\n",
              "  </div>\n",
              "  "
            ]
          },
          "metadata": {},
          "execution_count": 28
        }
      ]
    },
    {
      "cell_type": "code",
      "source": [
        "X = train_df.to_numpy()\n",
        "Y = test.to_numpy().reshape(-1,1)\n",
        "print(\"X :\", X.shape)\n",
        "print(\"Y :\", Y.shape)"
      ],
      "metadata": {
        "colab": {
          "base_uri": "https://localhost:8080/"
        },
        "id": "XPnjai_MX5R4",
        "outputId": "3f6b5114-8cd0-4ee7-ba70-615c5b1c5f21"
      },
      "execution_count": 29,
      "outputs": [
        {
          "output_type": "stream",
          "name": "stdout",
          "text": [
            "X : (20640, 8)\n",
            "Y : (20640, 1)\n"
          ]
        }
      ]
    },
    {
      "cell_type": "code",
      "source": [
        "x_train, x_test, y_train, y_test = train_test_split(X, Y, random_state=10, test_size= 0.3)\n",
        "print(\"x_train :\", x_train.shape)\n",
        "print(\"y_train :\", y_train.shape)\n",
        "print(\"x_test :\", x_test.shape)\n",
        "print(\"y_test :\", y_test.shape)"
      ],
      "metadata": {
        "colab": {
          "base_uri": "https://localhost:8080/"
        },
        "id": "VZ2g6HYIOHUF",
        "outputId": "4f93f151-d376-4235-867d-ee6de6cd8dcd"
      },
      "execution_count": 30,
      "outputs": [
        {
          "output_type": "stream",
          "name": "stdout",
          "text": [
            "x_train : (14448, 8)\n",
            "y_train : (14448, 1)\n",
            "x_test : (6192, 8)\n",
            "y_test : (6192, 1)\n"
          ]
        }
      ]
    },
    {
      "cell_type": "markdown",
      "source": [
        "## Pytorch (basic)"
      ],
      "metadata": {
        "id": "TOu9zecuPeci"
      }
    },
    {
      "cell_type": "code",
      "source": [
        "device = \"cuda\" if torch.cuda.is_available() else \"cpu\""
      ],
      "metadata": {
        "id": "-ikwbAeWhfI3"
      },
      "execution_count": 31,
      "outputs": []
    },
    {
      "cell_type": "code",
      "source": [
        "class TensorData(Dataset):\n",
        "    def __init__(self, x_data, y_data):\n",
        "      self.x_data = torch.FloatTensor(x_data).to(device)\n",
        "      self.y_data = torch.FloatTensor(y_data).to(device)\n",
        "      self.data_len = self.x_data.size()[0]\n",
        "    \n",
        "    def __getitem__(self, index):\n",
        "      return self.x_data[index], self.y_data[index]\n",
        "\n",
        "    def __len__(self):\n",
        "      return self.data_len\n",
        "train_set = TensorData(x_train, y_train)\n",
        "train_loader = DataLoader(train_set, batch_size=300, shuffle=True)\n",
        "test_set = TensorData(x_test, y_test)\n",
        "test_loader = DataLoader(test_set, batch_size=300, shuffle=True)"
      ],
      "metadata": {
        "id": "dnMRVQh3EsCj"
      },
      "execution_count": 32,
      "outputs": []
    },
    {
      "cell_type": "code",
      "source": [
        "class Regressor (nn.Module):\n",
        "    def __init__(self):\n",
        "      super(Regressor, self).__init__()\n",
        "      self.fc1 = nn.Linear(8, 128)\n",
        "      self.fc2 = nn.Linear(128, 64)\n",
        "      self.fc3 = nn.Linear(64, 1)\n",
        "      self.dropout = nn.Dropout(0.5)\n",
        "\n",
        "    def forward(self, x):\n",
        "      x = F.relu(self.fc1(x))\n",
        "      x = self.dropout(F.relu(self.fc2(x)))\n",
        "      x = F.relu(self.fc3(x))\n",
        "      return x"
      ],
      "metadata": {
        "id": "7W7SLpXQTjXd"
      },
      "execution_count": 33,
      "outputs": []
    },
    {
      "cell_type": "code",
      "source": [
        "# evaluation 함수\n",
        "def evaluation(dataloader): \n",
        "    predictions = torch.FloatTensor([]).to(device)\n",
        "    actual = torch.FloatTensor([]).to(device)\n",
        "\n",
        "    with torch.no_grad(): # requires_grad 비활성화\n",
        "        model.eval()\n",
        "        for data, targets in dataloader:\n",
        "            data = data.to(device=device)\n",
        "            targets = targets.to(device=device)\n",
        "            outputs = model(data)\n",
        "            predictions = torch.cat((predictions, outputs), dim=0)\n",
        "            actual = torch.cat((actual, targets), dim=0)\n",
        "\n",
        "        predictions = predictions.cpu().numpy()\n",
        "        actual = actual.cpu().numpy()\n",
        "        rmse = np.sqrt(mean_squared_error(predictions, actual))\n",
        "        model.train()\n",
        "        return rmse"
      ],
      "metadata": {
        "id": "hYXRdBuQg8pw"
      },
      "execution_count": 37,
      "outputs": []
    },
    {
      "cell_type": "code",
      "source": [
        "# 모델 구축\n",
        "model = Regressor().to(device)\n",
        "optimizer = optim.Adam(model.parameters(), lr=0.001, weight_decay=1e-7)\n",
        "criterion = nn.MSELoss()"
      ],
      "metadata": {
        "id": "odex0POofCj9"
      },
      "execution_count": 34,
      "outputs": []
    },
    {
      "cell_type": "code",
      "source": [
        "# 모델 학습\n",
        "num_epochs = 101\n",
        "total_loss = []\n",
        "device = \"cuda\" if torch.cuda.is_available() else \"cpu\"\n",
        "for epoch in range(num_epochs):\n",
        "    running_train_loss = 0.0\n",
        "    for batch_idx, (data, targets) in enumerate(train_loader):\n",
        "        data = data.to(device=device)\n",
        "        targets = targets.to(device=device)\n",
        "        scores = model(data)\n",
        "        train_loss = criterion(scores, targets)\n",
        "        optimizer.zero_grad()\n",
        "        train_loss.backward()\n",
        "        optimizer.step()\n",
        "        running_train_loss += train_loss.item()\n",
        "\n",
        "    total_loss.append(running_train_loss/len(train_loader))\n",
        "\n",
        "    # evaluation \n",
        "    predictions = torch.FloatTensor([]).to(device)\n",
        "    actual = torch.FloatTensor([]).to(device)\n",
        "    with torch.no_grad(): # requires_grad 비활성화\n",
        "        model.eval()\n",
        "        for data, targets in train_loader:\n",
        "            data = data.to(device=device)\n",
        "            targets = targets.to(device=device)\n",
        "            outputs = model(data)\n",
        "            predictions = torch.cat((predictions, outputs), dim=0)\n",
        "            actual = torch.cat((actual, targets), dim=0)\n",
        "\n",
        "    # Print Epoch, loss\n",
        "    if epoch % 50 == 0:\n",
        "        predictions = predictions.cpu().numpy()\n",
        "        actual = actual.cpu().numpy()\n",
        "        rmse = np.sqrt(mean_squared_error(predictions, actual))\n",
        "        total_loss.append(running_train_loss/len(train_loader))\n",
        "        print(f\"Epoch : {epoch}, Loss : {total_loss[-1]}, Rmse : {rmse}\")"
      ],
      "metadata": {
        "colab": {
          "base_uri": "https://localhost:8080/"
        },
        "id": "E5XCGiKZf-nE",
        "outputId": "b25fc73f-6546-4474-87b0-6e0c250795b7"
      },
      "execution_count": 35,
      "outputs": [
        {
          "output_type": "stream",
          "name": "stdout",
          "text": [
            "Epoch : 0, Loss : 2.7829522648636176, Rmse : 1.1271430253982544\n",
            "Epoch : 50, Loss : 0.3246242914881025, Rmse : 0.5713540315628052\n",
            "Epoch : 100, Loss : 0.29913091902830163, Rmse : 0.5514472126960754\n"
          ]
        }
      ]
    },
    {
      "cell_type": "code",
      "source": [
        "# 손실 함수 그래프\n",
        "plt.figure(figsize=(10,5))\n",
        "plt.plot(total_loss)\n",
        "plt.title(\"Caligornia model Loss\")\n",
        "plt.xlabel(\"epocps\")\n",
        "plt.show()"
      ],
      "metadata": {
        "colab": {
          "base_uri": "https://localhost:8080/",
          "height": 350
        },
        "id": "nYZoOzMMmj8E",
        "outputId": "f217424f-5f8f-4cee-de7f-0c29c9e887e6"
      },
      "execution_count": 36,
      "outputs": [
        {
          "output_type": "display_data",
          "data": {
            "text/plain": [
              "<Figure size 720x360 with 1 Axes>"
            ],
            "image/png": "[encoded data removed]"
          },
          "metadata": {
            "needs_background": "light"
          }
        }
      ]
    },
    {
      "cell_type": "markdown",
      "source": [
        "## Pytroch (K-fold)"
      ],
      "metadata": {
        "id": "M3OebLW_nTPL"
      }
    },
    {
      "cell_type": "code",
      "source": [
        "# 데이터 셋셋\n",
        "trainset = TensorData(x_train, y_train)\n",
        "testset = TensorData(x_test, y_test)\n",
        "testloader = DataLoader(test_set, batch_size=300, shuffle=False)"
      ],
      "metadata": {
        "id": "_xO8UVADxYqs"
      },
      "execution_count": 48,
      "outputs": []
    },
    {
      "cell_type": "code",
      "source": [
        "# madgrad 설치\n",
        "# 모멘텀텀과 가변식 방법을 병행하는 최신 최적화 방법 (Adam을 능가)\n",
        "!pip install madgrad\n",
        "import madgrad"
      ],
      "metadata": {
        "colab": {
          "base_uri": "https://localhost:8080/"
        },
        "id": "npOlpDJ7sOb1",
        "outputId": "1dbcad70-f82b-42d6-e5fd-f543483d4069"
      },
      "execution_count": 49,
      "outputs": [
        {
          "output_type": "stream",
          "name": "stdout",
          "text": [
            "Looking in indexes: https://pypi.org/simple, https://us-python.pkg.dev/colab-wheels/public/simple/\n",
            "Requirement already satisfied: madgrad in /usr/local/lib/python3.8/dist-packages (1.2)\n"
          ]
        }
      ]
    },
    {
      "cell_type": "code",
      "source": [
        "# k_fold\n",
        "from sklearn.model_selection import KFold\n",
        "kfold = KFold(n_splits=5, shuffle=True)\n",
        "criterion = nn.MSELoss()"
      ],
      "metadata": {
        "id": "KSXO901XsMZ_"
      },
      "execution_count": 50,
      "outputs": []
    },
    {
      "cell_type": "code",
      "source": [
        "# 손실함수 설정정\n",
        "criterion = nn.MSELoss()"
      ],
      "metadata": {
        "id": "J8QDZ4sSsG3-"
      },
      "execution_count": 51,
      "outputs": []
    },
    {
      "cell_type": "code",
      "source": [
        "# 교차검증 모델델\n",
        "validation_loss = []\n",
        "num_epochs = 300\n",
        "for fold, (train_idx, val_idx) in enumerate(kfold.split(trainset)):\n",
        "    # SubsetRandomSampler : 주어진 리스트 내의 인덱스값으로만 (주어진 데이터셋에서) 랜덤하게 뽑겠다. \n",
        "    train_subsampler = SubsetRandomSampler(train_idx) # index 생성\n",
        "    val_subsampler = SubsetRandomSampler(val_idx) # index 생성\n",
        "    \n",
        "    # sampler를 이용한 DataLoader 정의\n",
        "    # sampler : 데이터 인덱스를 다루는 방법, 인덱스를 직접 다루기 때문에 shuffle 파라미터는 반드시 False여야 사용할 수 있음\n",
        "    trainloader = DataLoader(trainset, batch_size=300, sampler=train_subsampler) \n",
        "    valloader = DataLoader(trainset, batch_size=300, sampler=val_subsampler)\n",
        "    \n",
        "    # 모델 설정정\n",
        "    model = Regressor().to(device)\n",
        "    optimizer = madgrad.MADGRAD(model.parameters(), lr=0.01, momentum = 0.9, weight_decay=1e-7)\n",
        "    \n",
        "    for epoch in range(num_epochs):\n",
        "        for data, targets in train_loader:\n",
        "            data = data.to(device=device)\n",
        "            targets = targets.to(device=device)\n",
        "            scores = model(data)\n",
        "            loss = criterion(scores, targets)\n",
        "            optimizer.zero_grad()\n",
        "            loss.backward()\n",
        "            optimizer.step()\n",
        "\n",
        "    train_rmse = evaluation(trainloader)\n",
        "    val_rmse = evaluation(valloader)\n",
        "    print(\"k-fold\", fold + 1,\" Train Loss: %.3f, Validation Loss: %.3f\" %(train_rmse, val_rmse)) \n",
        "    validation_loss.append(val_rmse)\n",
        "\n",
        "validation_loss = np.array(validation_loss)\n",
        "mean = np.mean(validation_loss)\n",
        "std = np.std(validation_loss)\n",
        "print(\"Validation Score: %.3f ± %.3f\" %(mean, std))    "
      ],
      "metadata": {
        "colab": {
          "base_uri": "https://localhost:8080/"
        },
        "id": "tohEQraRwcYk",
        "outputId": "ec6a8ed9-5df3-4b66-e9ab-9a09644ee5a7"
      },
      "execution_count": 57,
      "outputs": [
        {
          "output_type": "stream",
          "name": "stdout",
          "text": [
            "k-fold 0  Train Loss: 0.52145, Validation Loss: 0.51730\n",
            "k-fold 1  Train Loss: 0.52029, Validation Loss: 0.53325\n",
            "k-fold 2  Train Loss: 0.53749, Validation Loss: 0.52028\n",
            "k-fold 3  Train Loss: 0.57856, Validation Loss: 0.59292\n",
            "k-fold 4  Train Loss: 0.53787, Validation Loss: 0.54486\n",
            "Validation Score: 0.5417, ± 0.0274\n"
          ]
        }
      ]
    },
    {
      "cell_type": "code",
      "source": [
        "# 모델평가가\n",
        "trainloader = DataLoader(trainset, batch_size=300, shuffle=False)\n",
        "train_rmse = evaluation(trainloader)\n",
        "test_rmse = evaluation(testloader) \n",
        "\n",
        "print(\"Train RMSE: %.5f\" %train_rmse)\n",
        "print(\"Test RMSE: %.5f\" %test_rmse)"
      ],
      "metadata": {
        "colab": {
          "base_uri": "https://localhost:8080/"
        },
        "id": "NX4k08r1z3jQ",
        "outputId": "677d533f-8208-4f92-963c-a2e84b507590"
      },
      "execution_count": 58,
      "outputs": [
        {
          "output_type": "stream",
          "name": "stdout",
          "text": [
            "Train RMSE: 0.53927\n",
            "Test RMSE: 0.56954\n"
          ]
        }
      ]
    },
    {
      "cell_type": "markdown",
      "source": [
        "# (번외) 모델 구조 및 가중치 확인"
      ],
      "metadata": {
        "id": "TmHIa7QM18oP"
      }
    },
    {
      "cell_type": "code",
      "source": [
        "# 모델 호출\n",
        "model = Regressor()"
      ],
      "metadata": {
        "id": "KwpqyfrZ18Ow"
      },
      "execution_count": 59,
      "outputs": []
    },
    {
      "cell_type": "code",
      "source": [
        "# 1번 방법 ( __init__ 정의된 구조 출력 )\n",
        "print(model)"
      ],
      "metadata": {
        "colab": {
          "base_uri": "https://localhost:8080/"
        },
        "id": "4rLm-ocm16SN",
        "outputId": "37227f19-e8a7-4b8a-f229-4f9079c3db42"
      },
      "execution_count": 60,
      "outputs": [
        {
          "output_type": "stream",
          "name": "stdout",
          "text": [
            "Regressor(\n",
            "  (fc1): Linear(in_features=8, out_features=128, bias=True)\n",
            "  (fc2): Linear(in_features=128, out_features=64, bias=True)\n",
            "  (fc3): Linear(in_features=64, out_features=1, bias=True)\n",
            "  (dropout): Dropout(p=0.5, inplace=False)\n",
            ")\n"
          ]
        }
      ]
    },
    {
      "cell_type": "code",
      "source": [
        "# 2번 방법 (named_parameters() 사용)\n",
        "for name, param in model.named_parameters():\n",
        "    print(name, param.size())"
      ],
      "metadata": {
        "colab": {
          "base_uri": "https://localhost:8080/"
        },
        "id": "_lUiKVgE2Odr",
        "outputId": "3c2a90e5-c820-4e6e-d47d-9c63eb340acc"
      },
      "execution_count": 62,
      "outputs": [
        {
          "output_type": "stream",
          "name": "stdout",
          "text": [
            "fc1.weight torch.Size([128, 8])\n",
            "fc1.bias torch.Size([128])\n",
            "fc2.weight torch.Size([64, 128])\n",
            "fc2.bias torch.Size([64])\n",
            "fc3.weight torch.Size([1, 64])\n",
            "fc3.bias torch.Size([1])\n"
          ]
        }
      ]
    },
    {
      "cell_type": "code",
      "source": [
        "# 3번 방법 (라이브러리 사용)\n",
        "from torchsummary import summary\n",
        "summary(model.to(device), (10, 8))"
      ],
      "metadata": {
        "colab": {
          "base_uri": "https://localhost:8080/"
        },
        "id": "gFKt0CkB2k_J",
        "outputId": "0f105dc1-fd14-4cdf-d060-f1a1b5f163ad"
      },
      "execution_count": 73,
      "outputs": [
        {
          "output_type": "stream",
          "name": "stdout",
          "text": [
            "----------------------------------------------------------------\n",
            "        Layer (type)               Output Shape         Param #\n",
            "================================================================\n",
            "            Linear-1              [-1, 10, 128]           1,152\n",
            "            Linear-2               [-1, 10, 64]           8,256\n",
            "           Dropout-3               [-1, 10, 64]               0\n",
            "            Linear-4                [-1, 10, 1]              65\n",
            "================================================================\n",
            "Total params: 9,473\n",
            "Trainable params: 9,473\n",
            "Non-trainable params: 0\n",
            "----------------------------------------------------------------\n",
            "Input size (MB): 0.00\n",
            "Forward/backward pass size (MB): 0.02\n",
            "Params size (MB): 0.04\n",
            "Estimated Total Size (MB): 0.06\n",
            "----------------------------------------------------------------\n"
          ]
        }
      ]
    }
  ]
}